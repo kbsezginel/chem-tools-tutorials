{
 "cells": [
  {
   "cell_type": "code",
   "execution_count": null,
   "metadata": {
    "collapsed": false
   },
   "outputs": [],
   "source": [
    "import matplotlib as mpl\n",
    "import matplotlib.pyplot as plt\n",
    "import numpy as np\n",
    "import random\n",
    "%matplotlib inline"
   ]
  },
  {
   "cell_type": "markdown",
   "metadata": {},
   "source": [
    "### Randomly generate (x, y) data for histogram"
   ]
  },
  {
   "cell_type": "code",
   "execution_count": null,
   "metadata": {
    "collapsed": false
   },
   "outputs": [],
   "source": [
    "# Randomly generate x and y values btw 0 - 1\n",
    "grid_size = 100\n",
    "bin_size = 10\n",
    "x = [random.random() for i in range(grid_size)]\n",
    "y = [random.random() for i in range(grid_size)]"
   ]
  },
  {
   "cell_type": "markdown",
   "metadata": {},
   "source": [
    "### Create 2D histogram from data"
   ]
  },
  {
   "cell_type": "code",
   "execution_count": null,
   "metadata": {
    "collapsed": false
   },
   "outputs": [],
   "source": [
    "# Generate 2D histogram using numpy\n",
    "heatmap, xedges, yedges = np.histogram2d(x, y, bins=bin_size, normed=False)\n",
    "extent = [xedges[0], xedges[-1], yedges[0], yedges[-1]]\n",
    "H = heatmap.T"
   ]
  },
  {
   "cell_type": "markdown",
   "metadata": {},
   "source": [
    "### Plot simple 2D Histogram"
   ]
  },
  {
   "cell_type": "code",
   "execution_count": null,
   "metadata": {
    "collapsed": false
   },
   "outputs": [],
   "source": [
    "# Initialize figure and set size\n",
    "fig = plt.figure(figsize=(6, 6))\n",
    "ax = fig.add_subplot(111, title='2D Histogram')\n",
    "\n",
    "# Create color map (http://matplotlib.org/examples/color/colormaps_reference.html)\n",
    "cmap = plt.get_cmap('Spectral_r')       \n",
    "\n",
    "# Show histogram\n",
    "plt.imshow(H, interpolation='nearest', origin='low', extent=extent, cmap=cmap, vmin=1)\n",
    "\n",
    "# Set all bins with less data then vmin to given color (here white)\n",
    "cmap.set_under(color='white')  \n",
    "\n",
    "# Set colorbar location (fraction: bar size, pad: x distance from graph)\n",
    "c = plt.colorbar(fraction=0.046, pad=0.04)\n",
    "\n",
    "plt.show()"
   ]
  },
  {
   "cell_type": "markdown",
   "metadata": {},
   "source": [
    "### Plot 2D Histogram (additional options)"
   ]
  },
  {
   "cell_type": "code",
   "execution_count": null,
   "metadata": {
    "collapsed": false
   },
   "outputs": [],
   "source": [
    "# Initialize figure and set size\n",
    "fig = plt.figure(figsize=(6, 6))\n",
    "ax = fig.add_subplot(111, title='2D Histogram')\n",
    "\n",
    "# Create color map (http://matplotlib.org/examples/color/colormaps_reference.html)\n",
    "cmap = plt.get_cmap('Spectral_r')       \n",
    "\n",
    "# Set all bins under a certain value to chosen color (vmin is the value) -> optional\n",
    "cmap.set_under(color='white')           \n",
    "\n",
    "# Show histogram\n",
    "plt.imshow(H, interpolation='nearest', origin='low', extent=extent, cmap=cmap, vmin=0.0000001)\n",
    "\n",
    "# Set colorbar location (fraction: bar size, pad: x distance from graph)\n",
    "c = plt.colorbar(fraction=0.046, pad=0.04)\n",
    "\n",
    "# Set colorbar tick size\n",
    "c.ax.tick_params(labelsize=10)\n",
    "\n",
    "# Save figure with 500 dpi resolution and transparent background\n",
    "# plt.savefig('ipmof_scatter_plot.png', dpi=500, bbox_inches='tight', transparent=True)\n",
    "plt.show()"
   ]
  },
  {
   "cell_type": "markdown",
   "metadata": {},
   "source": [
    "### Multiple plots (data and histogram) "
   ]
  },
  {
   "cell_type": "code",
   "execution_count": null,
   "metadata": {
    "collapsed": false
   },
   "outputs": [],
   "source": [
    "# Initialize figure and set size\n",
    "fig = plt.figure(figsize=(12, 6))\n",
    "\n",
    "# Histogram 1\n",
    "ax2 = fig.add_subplot(131, title='Scatter plot for data', aspect=1, anchor=(0, 0.23))\n",
    "plt.scatter(x, y)\n",
    "\n",
    "# Histogram 2\n",
    "ax2 = fig.add_subplot(132, title='2D Histogram - 1')\n",
    "cmap2 = plt.get_cmap('cool')\n",
    "plt.imshow(H, interpolation='nearest', origin='low', extent=extent, cmap=cmap2, vmin=0.0000001)\n",
    "c = plt.colorbar(fraction=0.046, pad=0.07, orientation='horizontal')\n",
    "\n",
    "# Plot Histogram number 2\n",
    "cmap2 = plt.get_cmap('Reds')\n",
    "ax2 = fig.add_subplot(133, title='2D Histogram - 2')\n",
    "plt.imshow(H, interpolation='nearest', origin='low', extent=extent, cmap=cmap2, vmin=0.0000001)\n",
    "c = plt.colorbar(fraction=0.046, pad=0.07, orientation='horizontal')\n",
    "\n",
    "plt.show()"
   ]
  },
  {
   "cell_type": "code",
   "execution_count": null,
   "metadata": {
    "collapsed": false
   },
   "outputs": [],
   "source": []
  },
  {
   "cell_type": "code",
   "execution_count": null,
   "metadata": {
    "collapsed": true
   },
   "outputs": [],
   "source": []
  }
 ],
 "metadata": {
  "kernelspec": {
   "display_name": "Python 3",
   "language": "python",
   "name": "python3"
  },
  "language_info": {
   "codemirror_mode": {
    "name": "ipython",
    "version": 3
   },
   "file_extension": ".py",
   "mimetype": "text/x-python",
   "name": "python",
   "nbconvert_exporter": "python",
   "pygments_lexer": "ipython3",
   "version": "3.5.2"
  }
 },
 "nbformat": 4,
 "nbformat_minor": 1
}

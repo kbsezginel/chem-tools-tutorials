{
 "cells": [
  {
   "cell_type": "code",
   "execution_count": null,
   "metadata": {
    "collapsed": false
   },
   "outputs": [],
   "source": [
    "import math\n",
    "import numpy as np\n",
    "import random\n",
    "from ipywidgets import interact, widgets\n",
    "import matplotlib.pyplot as plt\n",
    "from IPython.display import display\n",
    "import matplotlib\n",
    "%matplotlib inline"
   ]
  },
  {
   "cell_type": "markdown",
   "metadata": {},
   "source": [
    "### Randomly generate (x, y) coordinates with given grid size and fill amount"
   ]
  },
  {
   "cell_type": "code",
   "execution_count": null,
   "metadata": {
    "collapsed": false
   },
   "outputs": [],
   "source": [
    "grid_size = 50\n",
    "fill = 0.2\n",
    "\n",
    "grid = [[None for i in range(grid_size)] for j in range(grid_size)]\n",
    "coordinates = []\n",
    "for x in range(grid_size):\n",
    "    for y in range(grid_size):\n",
    "        if random.random() <= fill:\n",
    "            grid[x][y] = 1\n",
    "            coordinates.append([x, y])\n",
    "        else:\n",
    "            grid[x][y] = 0"
   ]
  },
  {
   "cell_type": "markdown",
   "metadata": {},
   "source": [
    "### Plot grid with widgets"
   ]
  },
  {
   "cell_type": "code",
   "execution_count": null,
   "metadata": {
    "collapsed": false
   },
   "outputs": [],
   "source": [
    "g = 15\n",
    "fill = 0.55\n",
    "cmap = matplotlib.cm.get_cmap('viridis')\n",
    "\n",
    "def plot_grid(grid_size, fill):\n",
    "    for x in range(grid_size):\n",
    "        for y in range(grid_size):\n",
    "            if random.random() <= fill:\n",
    "                plt.scatter(x, y, s=10, c=cmap(fill), linewidth=0)\n",
    "    plt.xlim(0, 25)\n",
    "    plt.ylim(0, 25)\n",
    "    plt.grid(True)\n",
    "    plt.show()\n",
    "    g = grid_size               \n",
    "              \n",
    "interact(plot_grid, grid_size=(5, 25, 1), fill=(0.1, 1, 0.05))"
   ]
  },
  {
   "cell_type": "code",
   "execution_count": null,
   "metadata": {
    "collapsed": false
   },
   "outputs": [],
   "source": []
  },
  {
   "cell_type": "code",
   "execution_count": null,
   "metadata": {
    "collapsed": false
   },
   "outputs": [],
   "source": []
  },
  {
   "cell_type": "code",
   "execution_count": null,
   "metadata": {
    "collapsed": false
   },
   "outputs": [],
   "source": []
  },
  {
   "cell_type": "code",
   "execution_count": null,
   "metadata": {
    "collapsed": true
   },
   "outputs": [],
   "source": []
  }
 ],
 "metadata": {
  "kernelspec": {
   "display_name": "Python 3",
   "language": "python",
   "name": "python3"
  },
  "language_info": {
   "codemirror_mode": {
    "name": "ipython",
    "version": 3
   },
   "file_extension": ".py",
   "mimetype": "text/x-python",
   "name": "python",
   "nbconvert_exporter": "python",
   "pygments_lexer": "ipython3",
   "version": "3.5.2"
  },
  "widgets": {
   "state": {
    "6667c20d833e4295ab323b64fb27e422": {
     "views": [
      {
       "cell_index": 5
      }
     ]
    },
    "8b2e6ef1e65a415f90bba49f5d282dec": {
     "views": [
      {
       "cell_index": 5
      }
     ]
    },
    "bfb18ce525fd4c4d9ca55112d9aa2831": {
     "views": [
      {
       "cell_index": 2
      }
     ]
    },
    "e0493ecc605f4475b66323ec682e6e38": {
     "views": [
      {
       "cell_index": 5
      }
     ]
    }
   },
   "version": "1.2.0"
  }
 },
 "nbformat": 4,
 "nbformat_minor": 1
}

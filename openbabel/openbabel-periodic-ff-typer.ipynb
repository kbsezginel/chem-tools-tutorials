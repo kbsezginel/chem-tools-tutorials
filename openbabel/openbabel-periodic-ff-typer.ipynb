{
 "cells": [
  {
   "cell_type": "markdown",
   "metadata": {},
   "source": [
    "## Open Babel python interface"
   ]
  },
  {
   "cell_type": "code",
   "execution_count": 1,
   "metadata": {},
   "outputs": [],
   "source": [
    "import os\n",
    "import openbabel\n",
    "from openbabel import OBMol, OBConversion\n",
    "from openbabel import OBMolAtomIter, OBForceField\n",
    "from angstrom import Molecule"
   ]
  },
  {
   "cell_type": "code",
   "execution_count": 2,
   "metadata": {},
   "outputs": [],
   "source": [
    "mof_dir = '/home/kutay/Documents/Research/MOFs/CORE1'\n",
    "mof = os.path.join(mof_dir, os.listdir(mof_dir)[1])"
   ]
  },
  {
   "cell_type": "markdown",
   "metadata": {},
   "source": [
    "Read cif file"
   ]
  },
  {
   "cell_type": "code",
   "execution_count": 3,
   "metadata": {},
   "outputs": [
    {
     "data": {
      "text/plain": [
       "True"
      ]
     },
     "execution_count": 3,
     "metadata": {},
     "output_type": "execute_result"
    }
   ],
   "source": [
    "obconversion = OBConversion()\n",
    "obconversion.SetInAndOutFormats(\"cif\", \"xyz\")\n",
    "obmol = OBMol()\n",
    "obconversion.ReadFile(obmol, mof)"
   ]
  },
  {
   "cell_type": "code",
   "execution_count": 4,
   "metadata": {},
   "outputs": [
    {
     "data": {
      "text/plain": [
       "True"
      ]
     },
     "execution_count": 4,
     "metadata": {},
     "output_type": "execute_result"
    }
   ],
   "source": [
    "unitcell = openbabel.toUnitCell(obmol.GetData(openbabel.UnitCell))\n",
    "uc = [unitcell.GetA(), unitcell.GetB(), unitcell.GetC(), unitcell.GetAlpha(), unitcell.GetBeta(), unitcell.GetGamma()]\n",
    "obconversion.WriteFile(obmol, 'mof_tmp.xyz')"
   ]
  },
  {
   "cell_type": "markdown",
   "metadata": {},
   "source": [
    "Replicate cell"
   ]
  },
  {
   "cell_type": "code",
   "execution_count": 5,
   "metadata": {},
   "outputs": [],
   "source": [
    "mol = Molecule(read='mof_tmp.xyz')\n",
    "mol.set_cell(uc)\n",
    "mol333 = mol.replicate([3, 3, 3], center=True)\n",
    "mol333.write('mof333.cif', cell=mol333.cell.to_list())"
   ]
  },
  {
   "cell_type": "markdown",
   "metadata": {},
   "source": [
    "Type FF"
   ]
  },
  {
   "cell_type": "code",
   "execution_count": 6,
   "metadata": {},
   "outputs": [
    {
     "data": {
      "text/plain": [
       "True"
      ]
     },
     "execution_count": 6,
     "metadata": {},
     "output_type": "execute_result"
    }
   ],
   "source": [
    "obconversion.ReadFile(obmol, 'mof333.cif')\n",
    "ff = OBForceField.FindForceField(\"UFF\")\n",
    "if not ff.Setup(obmol):\n",
    "    print(\"Error: could not setup force field\")\n",
    "ff.GetAtomTypes(obmol)"
   ]
  },
  {
   "cell_type": "code",
   "execution_count": 9,
   "metadata": {},
   "outputs": [],
   "source": [
    "n_atoms = len(mol.atoms)\n",
    "for atom_idx, obatom in enumerate(OBMolAtomIter(obmol)):\n",
    "    if atom_idx >= n_atoms * 13 and atom_idx < n_atoms * 14:\n",
    "        ff_atom_type = obatom.GetData(\"FFAtomType\").GetValue()\n",
    "        # print(ff_atom_type)"
   ]
  },
  {
   "cell_type": "code",
   "execution_count": null,
   "metadata": {},
   "outputs": [],
   "source": []
  }
 ],
 "metadata": {
  "kernelspec": {
   "display_name": "Python 3",
   "language": "python",
   "name": "python3"
  },
  "language_info": {
   "codemirror_mode": {
    "name": "ipython",
    "version": 3
   },
   "file_extension": ".py",
   "mimetype": "text/x-python",
   "name": "python",
   "nbconvert_exporter": "python",
   "pygments_lexer": "ipython3",
   "version": "3.6.6"
  }
 },
 "nbformat": 4,
 "nbformat_minor": 2
}

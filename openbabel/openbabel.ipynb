{
 "cells": [
  {
   "cell_type": "markdown",
   "metadata": {},
   "source": [
    "## Open Babel python interface"
   ]
  },
  {
   "cell_type": "code",
   "execution_count": null,
   "metadata": {
    "collapsed": true
   },
   "outputs": [],
   "source": [
    "from openbabel import OBMol, OBConversion, OBElementTable\n",
    "from openbabel import OBMolAtomIter, OBAtomBondIter, OBForceField"
   ]
  },
  {
   "cell_type": "markdown",
   "metadata": {},
   "source": [
    "### File conversion"
   ]
  },
  {
   "cell_type": "code",
   "execution_count": null,
   "metadata": {
    "collapsed": true
   },
   "outputs": [],
   "source": [
    "obconversion = OBConversion()\n",
    "obconversion.SetInAndOutFormats(\"xyz\", \"pdb\")  # Set input and output formats"
   ]
  },
  {
   "cell_type": "code",
   "execution_count": null,
   "metadata": {},
   "outputs": [],
   "source": [
    "obmol = OBMol()                                # Create openbabel molecule instance\n",
    "mol_file = 'benzene.xyz'                       # Select input file\n",
    "obconversion.ReadFile(obmol, mol_file)         # Read file (file is read into obmol object)\n",
    "obconversion.WriteFile(obmol, 'benzene.pdb')   # Convert file to output format and save"
   ]
  },
  {
   "cell_type": "markdown",
   "metadata": {},
   "source": [
    "### Periodic table"
   ]
  },
  {
   "cell_type": "code",
   "execution_count": null,
   "metadata": {},
   "outputs": [],
   "source": [
    "table = OBElementTable()             # Setup element table\n",
    "\n",
    "element = 'C'\n",
    "num = table.GetAtomicNum(element)    # Get atomic number from element symbol\n",
    "mass = table.GetMass(num)            # Get mass from atomic number \n",
    "symbol = table.GetSymbol(num)        # Get element symbol from atomic number\n",
    "name = table.GetName(num)            # Get element name\n",
    "r_cov = table.GetCovalentRad(num)    # Get covalent radius\n",
    "r_vdw = table.GetVdwRad(num)         # Get van der Waals radius\n",
    "en = table.GetElectroNeg(num)        # Get electronegativity \n",
    "\n",
    "print('Element: %s | Symbol: %s | No: %i | Mass: %.3f | EN: %.2f | Radius cov: %.2f vdw: %.2f'\n",
    "      % (name, symbol, num, mass, en, r_cov, r_vdw))"
   ]
  },
  {
   "cell_type": "markdown",
   "metadata": {
    "collapsed": true
   },
   "source": [
    "### Topology"
   ]
  },
  {
   "cell_type": "code",
   "execution_count": null,
   "metadata": {},
   "outputs": [],
   "source": [
    "bond_ids = []\n",
    "for obatom in OBMolAtomIter(obmol):                                    # Iterate over atoms\n",
    "    for bond in OBAtomBondIter(obatom):                                # Iterate over bonds\n",
    "        atom1 = table.GetSymbol(bond.GetBeginAtom().GetAtomicNum())    # Get symbol for bonded atom 1\n",
    "        atom2 = table.GetSymbol(bond.GetEndAtom().GetAtomicNum())      # Get symbol for bonded atom 2\n",
    "        atom1_idx = bond.GetBeginAtomIdx()                             # Atom 1 index\n",
    "        atom2_idx = bond.GetEndAtomIdx()                               # Atom 2 index\n",
    "        order = bond.GetBondOrder()                                    # Bond order\n",
    "        length = bond.GetLength()                                      # Bond length\n",
    "        eq_length = bond.GetEquibLength()                              # Equilibrium bond length\n",
    "        bond_id = bond.GetIdx()                                        # Bond id\n",
    "        if bond_id not in bond_ids:\n",
    "            bond_ids.append(bond.GetIdx())   \n",
    "            print('%s %2i - %s %2i | Order: %i | Length: actual-> %.3f - equilibrium-> %.3f'\n",
    "                  % (atom1, atom1_idx, atom2, atom2_idx, order, length, eq_length))"
   ]
  },
  {
   "cell_type": "markdown",
   "metadata": {},
   "source": [
    "### Force field"
   ]
  },
  {
   "cell_type": "code",
   "execution_count": null,
   "metadata": {},
   "outputs": [],
   "source": [
    "ff = OBForceField.FindForceField(\"UFF\")               # Select force field\n",
    "if not ff.Setup(obmol):                               # Set force field for molecule\n",
    "    print(\"Error: could not setup force field\")       # Print this message if cannot set force field\n",
    "\n",
    "ff.GetAtomTypes(obmol)                                # Get force field atom types"
   ]
  },
  {
   "cell_type": "code",
   "execution_count": null,
   "metadata": {},
   "outputs": [],
   "source": [
    "for obatom in OBMolAtomIter(obmol):\n",
    "    num = obatom.GetAtomicNum()                                  # Atomic number\n",
    "    element = table.GetSymbol(num)                               # Element symbol\n",
    "    x, y, z = obatom.GetX(), obatom.GetY(), obatom.GetZ()        # Coordinates \n",
    "    ff_atom_type = obatom.GetData(\"FFAtomType\")                  # Force field atom type\n",
    "    ff_atom_type = ff_atom_type.GetValue()                       # ...\n",
    "    valence = obatom.GetValence()                                # Valence\n",
    "    print('%-7s %-2i %-5s %-i %6.3f %6.3f %6.3f' % (element, num, ff_atom_type, valence, x, y, z))"
   ]
  },
  {
   "cell_type": "code",
   "execution_count": null,
   "metadata": {
    "collapsed": true
   },
   "outputs": [],
   "source": []
  }
 ],
 "metadata": {
  "kernelspec": {
   "display_name": "Python 3",
   "language": "python",
   "name": "python3"
  },
  "language_info": {
   "codemirror_mode": {
    "name": "ipython",
    "version": 3
   },
   "file_extension": ".py",
   "mimetype": "text/x-python",
   "name": "python",
   "nbconvert_exporter": "python",
   "pygments_lexer": "ipython3",
   "version": "3.6.5"
  }
 },
 "nbformat": 4,
 "nbformat_minor": 2
}
